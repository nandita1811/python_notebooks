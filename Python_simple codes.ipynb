{
  "metadata": {
    "language_info": {
      "codemirror_mode": {
        "name": "python",
        "version": 3
      },
      "file_extension": ".py",
      "mimetype": "text/x-python",
      "name": "python",
      "nbconvert_exporter": "python",
      "pygments_lexer": "ipython3",
      "version": "3.8"
    },
    "kernelspec": {
      "name": "python",
      "display_name": "Pyolite",
      "language": "python"
    },
    "toc-showcode": true
  },
  "nbformat_minor": 4,
  "nbformat": 4,
  "cells": [
    {
      "cell_type": "markdown",
      "source": "PYTHON PRACTICE",
      "metadata": {}
    },
    {
      "cell_type": "code",
      "source": "print(\"list is ordered,can be changed and can have duplicate entries\")",
      "metadata": {
        "trusted": true
      },
      "execution_count": 1,
      "outputs": [
        {
          "name": "stdout",
          "text": "list is ordered,can be changed and can have duplicate entries\n",
          "output_type": "stream"
        }
      ]
    },
    {
      "cell_type": "code",
      "source": "print(\"dictionary is unordered, can be changed and can have duplicate entries\")",
      "metadata": {
        "trusted": true
      },
      "execution_count": 2,
      "outputs": [
        {
          "name": "stdout",
          "text": "dictionary is unordered, can be changed and can have duplicate entries\n",
          "output_type": "stream"
        }
      ]
    },
    {
      "cell_type": "code",
      "source": "print(\"tuple is ordered and cannot be changed and cannot have duplicate entries\")",
      "metadata": {
        "trusted": true
      },
      "execution_count": 3,
      "outputs": [
        {
          "name": "stdout",
          "text": "tuple is ordered and cannot be changed and cannot have duplicate entries\n",
          "output_type": "stream"
        }
      ]
    },
    {
      "cell_type": "code",
      "source": "animals=(10,20,30,'tiger','frog','giraffe')",
      "metadata": {
        "trusted": true
      },
      "execution_count": 8,
      "outputs": []
    },
    {
      "cell_type": "code",
      "source": "print(animals)",
      "metadata": {
        "trusted": true
      },
      "execution_count": 5,
      "outputs": [
        {
          "name": "stdout",
          "text": "(10, 20, 30, 'tiger', 'frog', 'giraffe')\n",
          "output_type": "stream"
        }
      ]
    },
    {
      "cell_type": "code",
      "source": "animals[2] = 20",
      "metadata": {
        "trusted": true
      },
      "execution_count": 6,
      "outputs": [
        {
          "ename": "<class 'TypeError'>",
          "evalue": "'tuple' object does not support item assignment",
          "traceback": [
            "\u001b[0;31m---------------------------------------------------------------------------\u001b[0m",
            "\u001b[0;31mTypeError\u001b[0m                                 Traceback (most recent call last)",
            "Input \u001b[0;32mIn [6]\u001b[0m, in \u001b[0;36m<cell line: 1>\u001b[0;34m()\u001b[0m\n\u001b[0;32m----> 1\u001b[0m animals[\u001b[38;5;241m2\u001b[39m] \u001b[38;5;241m=\u001b[39m \u001b[38;5;241m20\u001b[39m\n",
            "\u001b[0;31mTypeError\u001b[0m: 'tuple' object does not support item assignment"
          ],
          "output_type": "error"
        }
      ]
    },
    {
      "cell_type": "code",
      "source": "animals[3]",
      "metadata": {
        "trusted": true
      },
      "execution_count": 7,
      "outputs": [
        {
          "execution_count": 7,
          "output_type": "execute_result",
          "data": {
            "text/plain": "'tiger'"
          },
          "metadata": {}
        }
      ]
    },
    {
      "cell_type": "code",
      "source": "animals.count(10)",
      "metadata": {
        "trusted": true
      },
      "execution_count": 9,
      "outputs": [
        {
          "execution_count": 9,
          "output_type": "execute_result",
          "data": {
            "text/plain": "1"
          },
          "metadata": {}
        }
      ]
    },
    {
      "cell_type": "code",
      "source": "print(\"sets are unordered no duplicate entries\")",
      "metadata": {
        "trusted": true
      },
      "execution_count": 10,
      "outputs": [
        {
          "name": "stdout",
          "text": "sets are unordered no duplicate entries\n",
          "output_type": "stream"
        }
      ]
    },
    {
      "cell_type": "code",
      "source": "animals={10,20,30,40,10,20,\"edureka\",\"courses\"}",
      "metadata": {
        "trusted": true
      },
      "execution_count": 11,
      "outputs": []
    },
    {
      "cell_type": "code",
      "source": "animals",
      "metadata": {
        "trusted": true
      },
      "execution_count": 12,
      "outputs": [
        {
          "execution_count": 12,
          "output_type": "execute_result",
          "data": {
            "text/plain": "{10, 20, 30, 40, 'courses', 'edureka'}"
          },
          "metadata": {}
        }
      ]
    },
    {
      "cell_type": "code",
      "source": "print(\"no duplicate values printed\")",
      "metadata": {
        "trusted": true
      },
      "execution_count": 13,
      "outputs": [
        {
          "name": "stdout",
          "text": "no duplicate values printed\n",
          "output_type": "stream"
        }
      ]
    },
    {
      "cell_type": "code",
      "source": "animals[2]",
      "metadata": {
        "trusted": true
      },
      "execution_count": 14,
      "outputs": [
        {
          "ename": "<class 'TypeError'>",
          "evalue": "'set' object is not subscriptable",
          "traceback": [
            "\u001b[0;31m---------------------------------------------------------------------------\u001b[0m",
            "\u001b[0;31mTypeError\u001b[0m                                 Traceback (most recent call last)",
            "Input \u001b[0;32mIn [14]\u001b[0m, in \u001b[0;36m<cell line: 1>\u001b[0;34m()\u001b[0m\n\u001b[0;32m----> 1\u001b[0m \u001b[43manimals\u001b[49m\u001b[43m[\u001b[49m\u001b[38;5;241;43m2\u001b[39;49m\u001b[43m]\u001b[49m\n",
            "\u001b[0;31mTypeError\u001b[0m: 'set' object is not subscriptable"
          ],
          "output_type": "error"
        }
      ]
    },
    {
      "cell_type": "code",
      "source": "range(10)",
      "metadata": {
        "trusted": true
      },
      "execution_count": 15,
      "outputs": [
        {
          "execution_count": 15,
          "output_type": "execute_result",
          "data": {
            "text/plain": "range(0, 10)"
          },
          "metadata": {}
        }
      ]
    },
    {
      "cell_type": "code",
      "source": "list(range(10))",
      "metadata": {
        "trusted": true
      },
      "execution_count": 16,
      "outputs": [
        {
          "execution_count": 16,
          "output_type": "execute_result",
          "data": {
            "text/plain": "[0, 1, 2, 3, 4, 5, 6, 7, 8, 9]"
          },
          "metadata": {}
        }
      ]
    },
    {
      "cell_type": "code",
      "source": "tuple(range(10))",
      "metadata": {
        "trusted": true
      },
      "execution_count": 17,
      "outputs": [
        {
          "execution_count": 17,
          "output_type": "execute_result",
          "data": {
            "text/plain": "(0, 1, 2, 3, 4, 5, 6, 7, 8, 9)"
          },
          "metadata": {}
        }
      ]
    },
    {
      "cell_type": "code",
      "source": "set(range(11))",
      "metadata": {
        "trusted": true
      },
      "execution_count": 18,
      "outputs": [
        {
          "execution_count": 18,
          "output_type": "execute_result",
          "data": {
            "text/plain": "{0, 1, 2, 3, 4, 5, 6, 7, 8, 9, 10}"
          },
          "metadata": {}
        }
      ]
    },
    {
      "cell_type": "code",
      "source": "dict(range(10))",
      "metadata": {
        "trusted": true
      },
      "execution_count": 19,
      "outputs": [
        {
          "ename": "<class 'TypeError'>",
          "evalue": "cannot convert dictionary update sequence element #0 to a sequence",
          "traceback": [
            "\u001b[0;31m---------------------------------------------------------------------------\u001b[0m",
            "\u001b[0;31mTypeError\u001b[0m                                 Traceback (most recent call last)",
            "Input \u001b[0;32mIn [19]\u001b[0m, in \u001b[0;36m<cell line: 1>\u001b[0;34m()\u001b[0m\n\u001b[0;32m----> 1\u001b[0m \u001b[38;5;28;43mdict\u001b[39;49m\u001b[43m(\u001b[49m\u001b[38;5;28;43mrange\u001b[39;49m\u001b[43m(\u001b[49m\u001b[38;5;241;43m10\u001b[39;49m\u001b[43m)\u001b[49m\u001b[43m)\u001b[49m\n",
            "\u001b[0;31mTypeError\u001b[0m: cannot convert dictionary update sequence element #0 to a sequence"
          ],
          "output_type": "error"
        }
      ]
    },
    {
      "cell_type": "code",
      "source": "a=10",
      "metadata": {
        "trusted": true
      },
      "execution_count": 20,
      "outputs": []
    },
    {
      "cell_type": "code",
      "source": "b=' points to gryffindor '",
      "metadata": {
        "trusted": true
      },
      "execution_count": 21,
      "outputs": []
    },
    {
      "cell_type": "code",
      "source": "c=a+b",
      "metadata": {
        "trusted": true
      },
      "execution_count": 22,
      "outputs": [
        {
          "ename": "<class 'TypeError'>",
          "evalue": "unsupported operand type(s) for +: 'int' and 'str'",
          "traceback": [
            "\u001b[0;31m---------------------------------------------------------------------------\u001b[0m",
            "\u001b[0;31mTypeError\u001b[0m                                 Traceback (most recent call last)",
            "Input \u001b[0;32mIn [22]\u001b[0m, in \u001b[0;36m<cell line: 1>\u001b[0;34m()\u001b[0m\n\u001b[0;32m----> 1\u001b[0m c\u001b[38;5;241m=\u001b[39m\u001b[43ma\u001b[49m\u001b[38;5;241;43m+\u001b[39;49m\u001b[43mb\u001b[49m\n",
            "\u001b[0;31mTypeError\u001b[0m: unsupported operand type(s) for +: 'int' and 'str'"
          ],
          "output_type": "error"
        }
      ]
    },
    {
      "cell_type": "code",
      "source": "#type conversion\nc=str(a)+b",
      "metadata": {
        "trusted": true
      },
      "execution_count": 26,
      "outputs": []
    },
    {
      "cell_type": "code",
      "source": "c",
      "metadata": {
        "trusted": true
      },
      "execution_count": 24,
      "outputs": [
        {
          "execution_count": 24,
          "output_type": "execute_result",
          "data": {
            "text/plain": "'10 points to gryffindor '"
          },
          "metadata": {}
        }
      ]
    },
    {
      "cell_type": "code",
      "source": "print(\"difference between array and list - \\n 1.)python array and list have same way of storing data.\")\nprint(\" 2.)array can store only one type of data, list can store multiple data types\\n\")",
      "metadata": {
        "trusted": true
      },
      "execution_count": 29,
      "outputs": [
        {
          "name": "stdout",
          "text": "difference between array and list - \n 1.)python array and list have same way of storing data.\n 2.)array can store only one type of data, list can store multiple data types\n\n",
          "output_type": "stream"
        }
      ]
    },
    {
      "cell_type": "markdown",
      "source": "ADDING ELEMENTS TO AN AARAY",
      "metadata": {}
    },
    {
      "cell_type": "markdown",
      "source": "elements in an array can be added using three ways",
      "metadata": {}
    },
    {
      "cell_type": "code",
      "source": "#append()\nimport array as arr\na=arr.array('d',[1,2,3,4,5])\nprint(a)\na.append(6)\nprint(a)\n#extend()\nb=arr.array('d',[7,8,9,10])\na.extend(b)\nprint(a)\n#insert()\na.insert(2,3)\nprint(a)",
      "metadata": {
        "trusted": true
      },
      "execution_count": 51,
      "outputs": [
        {
          "name": "stdout",
          "text": "array('d', [1.0, 2.0, 3.0, 4.0, 5.0])\narray('d', [1.0, 2.0, 3.0, 4.0, 5.0, 6.0])\narray('d', [1.0, 2.0, 3.0, 4.0, 5.0, 6.0, 7.0, 8.0, 9.0, 10.0])\narray('d', [1.0, 2.0, 3.0, 3.0, 4.0, 5.0, 6.0, 7.0, 8.0, 9.0, 10.0])\n",
          "output_type": "stream"
        }
      ]
    },
    {
      "cell_type": "markdown",
      "source": "REMOVE ELEMENTS IN AN ARRAY",
      "metadata": {}
    },
    {
      "cell_type": "code",
      "source": "#remove()\na.remove(3)\nprint(a)\nprint(\"3 is removed from above array\")\na.pop()#popping last element\nprint(a)",
      "metadata": {
        "trusted": true
      },
      "execution_count": 53,
      "outputs": [
        {
          "name": "stdout",
          "text": "array('d', [1.0, 2.0, 4.0, 5.0, 6.0, 7.0, 8.0, 9.0, 10.0])\n3 is removed from above array\narray('d', [1.0, 2.0, 4.0, 5.0, 6.0, 7.0, 8.0, 9.0])\n",
          "output_type": "stream"
        }
      ]
    },
    {
      "cell_type": "raw",
      "source": "for loop and while loop",
      "metadata": {}
    },
    {
      "cell_type": "code",
      "source": "#for loop\nx=arr.array('i',[9,7,5,3,1,2,4,6,8])\nfor i in x:\n    print(i,end=\" \")\nprint(\"\\n\")\nfor i in x[3:8]:\n    print(i,end=\" \")",
      "metadata": {
        "trusted": true
      },
      "execution_count": 71,
      "outputs": [
        {
          "name": "stdout",
          "text": "9 7 5 3 1 2 4 6 8 \n\n3 1 2 4 6 ",
          "output_type": "stream"
        }
      ]
    },
    {
      "cell_type": "code",
      "source": "#while loop\nj=0\nwhile j<x[6]:\n    print(x[j],\" \",x[-j])\n    j=j+1",
      "metadata": {
        "trusted": true
      },
      "execution_count": 75,
      "outputs": [
        {
          "name": "stdout",
          "text": "9   9\n7   8\n5   6\n3   4\n",
          "output_type": "stream"
        }
      ]
    },
    {
      "cell_type": "code",
      "source": "my_dict={'dave':'001','joe':'002','chris':'003'}\nprint(my_dict)",
      "metadata": {
        "trusted": true
      },
      "execution_count": 83,
      "outputs": [
        {
          "name": "stdout",
          "text": "{'dave': '001', 'joe': '002', 'chris': '003'}\n",
          "output_type": "stream"
        }
      ]
    },
    {
      "cell_type": "code",
      "source": "#pyramid\ndef pattern(n):\n    k=2*n-2\n    for i in range(0,n):\n        for j in range(0,k):\n            print(end=\" \")\n        k=k-1\n        for j in range(0,i+1):\n            print(\"* \",end = \"\")\n        print(\"\\r\")\ndef invpattern(n):\n    k=n-2\n    for i in range(n,-1,-1):\n        for j in range(k,0,-1):\n            print(end=\" \")\n        k=k+1\n        for j in range(0,i+1):\n            print(\"* \",end = \"\")\n        print(\"\\r\")\npattern(10)\ninvpattern(10)\n",
      "metadata": {
        "trusted": true
      },
      "execution_count": 117,
      "outputs": [
        {
          "name": "stdout",
          "text": "                  * \n                 * * \n                * * * \n               * * * * \n              * * * * * \n             * * * * * * \n            * * * * * * * \n           * * * * * * * * \n          * * * * * * * * * \n         * * * * * * * * * * \n        * * * * * * * * * * * \n         * * * * * * * * * * \n          * * * * * * * * * \n           * * * * * * * * \n            * * * * * * * \n             * * * * * * \n              * * * * * \n               * * * * \n                * * * \n                 * * \n                  * \n",
          "output_type": "stream"
        }
      ]
    },
    {
      "cell_type": "markdown",
      "source": "FILE HANDLING\n\nCRUD OPERATION\n\n\n1.creating\n2.reading\n3.updating\n4.deleting",
      "metadata": {}
    },
    {
      "cell_type": "code",
      "source": "import os\nf=open(\"demopy.txt\",\"w\")\nf.write(\"this file is a demo file \\n\")\nf.write(\"this file contains lines to learn usage of file handling in python.\\n many more things are going to be added in it\")\nf.close()",
      "metadata": {
        "trusted": true
      },
      "execution_count": 160,
      "outputs": []
    },
    {
      "cell_type": "code",
      "source": "f=open(\"demopy.txt\",\"r\")\nprint(f.read())\nf.close()",
      "metadata": {
        "trusted": true
      },
      "execution_count": 161,
      "outputs": [
        {
          "name": "stdout",
          "text": "this file is a demo file \nthis file contains lines to learn usage of file handling in python.\n many more things are going to be added in it\n",
          "output_type": "stream"
        }
      ]
    },
    {
      "cell_type": "code",
      "source": "f=open(\"demopy.txt\",\"r\")\nprint(f.read(10))\nf.close()",
      "metadata": {
        "trusted": true
      },
      "execution_count": 162,
      "outputs": [
        {
          "name": "stdout",
          "text": "this file \n",
          "output_type": "stream"
        }
      ]
    },
    {
      "cell_type": "code",
      "source": "f=open(\"demopy.txt\",\"r\")\nfor line in f:\n    print(f.read())\n",
      "metadata": {
        "trusted": true
      },
      "execution_count": 163,
      "outputs": [
        {
          "name": "stdout",
          "text": "this file contains lines to learn usage of file handling in python.\n many more things are going to be added in it\n",
          "output_type": "stream"
        }
      ]
    },
    {
      "cell_type": "code",
      "source": "import os\nos.remove(\"demopy.txt\")#file deleted",
      "metadata": {
        "trusted": true
      },
      "execution_count": 164,
      "outputs": []
    },
    {
      "cell_type": "code",
      "source": "f=open(\"demopy.txt\",\"r\")\nprint(f.read(10))\nf.close()",
      "metadata": {
        "trusted": true
      },
      "execution_count": 33,
      "outputs": [
        {
          "ename": "<class 'FileNotFoundError'>",
          "evalue": "[Errno 44] No such file or directory: 'demopy.txt'",
          "traceback": [
            "\u001b[0;31m---------------------------------------------------------------------------\u001b[0m",
            "\u001b[0;31mFileNotFoundError\u001b[0m                         Traceback (most recent call last)",
            "Input \u001b[0;32mIn [33]\u001b[0m, in \u001b[0;36m<cell line: 1>\u001b[0;34m()\u001b[0m\n\u001b[0;32m----> 1\u001b[0m f\u001b[38;5;241m=\u001b[39m\u001b[38;5;28;43mopen\u001b[39;49m\u001b[43m(\u001b[49m\u001b[38;5;124;43m\"\u001b[39;49m\u001b[38;5;124;43mdemopy.txt\u001b[39;49m\u001b[38;5;124;43m\"\u001b[39;49m\u001b[43m,\u001b[49m\u001b[38;5;124;43m\"\u001b[39;49m\u001b[38;5;124;43mr\u001b[39;49m\u001b[38;5;124;43m\"\u001b[39;49m\u001b[43m)\u001b[49m\n\u001b[1;32m      2\u001b[0m \u001b[38;5;28mprint\u001b[39m(f\u001b[38;5;241m.\u001b[39mread(\u001b[38;5;241m10\u001b[39m))\n\u001b[1;32m      3\u001b[0m f\u001b[38;5;241m.\u001b[39mclose()\n",
            "\u001b[0;31mFileNotFoundError\u001b[0m: [Errno 44] No such file or directory: 'demopy.txt'"
          ],
          "output_type": "error"
        }
      ]
    },
    {
      "cell_type": "code",
      "source": "#function as a func arg\ndef func(n):\n    def func1():\n        return \"edureka\"\n    def func2():\n        return \"python\"\n    if n==1:\n        return func1\n    else:\n        return func2\n    \na=func(1)\nb=func(2)\nprint(a())\nprint(b())",
      "metadata": {
        "trusted": true
      },
      "execution_count": 166,
      "outputs": [
        {
          "name": "stdout",
          "text": "edureka\npython\n",
          "output_type": "stream"
        }
      ]
    },
    {
      "cell_type": "code",
      "source": "#lambda function\nb = lambda x,y : x**y\nb(2,3)",
      "metadata": {
        "trusted": true
      },
      "execution_count": 170,
      "outputs": [
        {
          "execution_count": 170,
          "output_type": "execute_result",
          "data": {
            "text/plain": "8"
          },
          "metadata": {}
        }
      ]
    },
    {
      "cell_type": "code",
      "source": "def A(x):\n    return (lambda y:x+y)\nt=A(4)\nprint(t(8))",
      "metadata": {
        "trusted": true
      },
      "execution_count": 171,
      "outputs": [
        {
          "name": "stdout",
          "text": "12\n",
          "output_type": "stream"
        }
      ]
    },
    {
      "cell_type": "code",
      "source": "#lambda within filter()\n#make a list\nlis=[1,2,3,4,5,6,7,8,9]\nnew = list(filter(lambda a:(a%3==0),lis))#SYNTAX - filter(function,iterable)\nprint(new)",
      "metadata": {
        "trusted": true
      },
      "execution_count": 175,
      "outputs": [
        {
          "name": "stdout",
          "text": "[3, 6, 9]\n",
          "output_type": "stream"
        }
      ]
    },
    {
      "cell_type": "code",
      "source": "#lambda with map(func,iterables)\nliss=[2,4,6,8,1,3,2,3,4,5]\nnew = list(map(lambda a:(a%2==1),liss))\nprint(new)",
      "metadata": {
        "trusted": true
      },
      "execution_count": 180,
      "outputs": [
        {
          "name": "stdout",
          "text": "[False, False, False, False, True, True, False, True, False, True]\n",
          "output_type": "stream"
        }
      ]
    },
    {
      "cell_type": "code",
      "source": "#lambda with reduce(func,sequence)\nfrom functools import reduce\nreduce(lambda a,b:a+b, [2,4,6,8])",
      "metadata": {
        "trusted": true
      },
      "execution_count": 181,
      "outputs": [
        {
          "execution_count": 181,
          "output_type": "execute_result",
          "data": {
            "text/plain": "20"
          },
          "metadata": {}
        }
      ]
    },
    {
      "cell_type": "markdown",
      "source": "GENERATORS",
      "metadata": {}
    },
    {
      "cell_type": "code",
      "source": "#functions that return traversable objects , are run along with for loops,produce items one at a time and only when required\n#make use of yield keyword\n#and use next() function to be called\ndef new(dict):\n    for x,y in dict.items():\n        yield x,y\na={1:\"hi\",2:\"welcome\",3:\"yo\",4:\"moshi moshi\",5:\"hello\"}\ngen_obj = new(a)\nprint(gen_obj)\nnext(gen_obj)",
      "metadata": {
        "trusted": true
      },
      "execution_count": 186,
      "outputs": [
        {
          "name": "stdout",
          "text": "<generator object new at 0x59af048>\n",
          "output_type": "stream"
        },
        {
          "execution_count": 186,
          "output_type": "execute_result",
          "data": {
            "text/plain": "(1, 'hi')"
          },
          "metadata": {}
        }
      ]
    },
    {
      "cell_type": "code",
      "source": "next(gen_obj)",
      "metadata": {
        "trusted": true
      },
      "execution_count": 187,
      "outputs": [
        {
          "execution_count": 187,
          "output_type": "execute_result",
          "data": {
            "text/plain": "(2, 'welcome')"
          },
          "metadata": {}
        }
      ]
    },
    {
      "cell_type": "code",
      "source": "next(gen_obj)",
      "metadata": {
        "trusted": true
      },
      "execution_count": 188,
      "outputs": [
        {
          "execution_count": 188,
          "output_type": "execute_result",
          "data": {
            "text/plain": "(3, 'yo')"
          },
          "metadata": {}
        }
      ]
    },
    {
      "cell_type": "code",
      "source": "next(gen_obj)",
      "metadata": {
        "trusted": true
      },
      "execution_count": 189,
      "outputs": [
        {
          "execution_count": 189,
          "output_type": "execute_result",
          "data": {
            "text/plain": "(4, 'moshi moshi')"
          },
          "metadata": {}
        }
      ]
    },
    {
      "cell_type": "code",
      "source": "next(gen_obj)",
      "metadata": {
        "trusted": true
      },
      "execution_count": 190,
      "outputs": [
        {
          "execution_count": 190,
          "output_type": "execute_result",
          "data": {
            "text/plain": "(5, 'hello')"
          },
          "metadata": {}
        }
      ]
    },
    {
      "cell_type": "code",
      "source": "next(gen_obj)",
      "metadata": {
        "trusted": true
      },
      "execution_count": 191,
      "outputs": [
        {
          "ename": "<class 'StopIteration'>",
          "evalue": "",
          "traceback": [
            "\u001b[0;31m---------------------------------------------------------------------------\u001b[0m",
            "\u001b[0;31mStopIteration\u001b[0m                             Traceback (most recent call last)",
            "Input \u001b[0;32mIn [191]\u001b[0m, in \u001b[0;36m<cell line: 1>\u001b[0;34m()\u001b[0m\n\u001b[0;32m----> 1\u001b[0m \u001b[38;5;28;43mnext\u001b[39;49m\u001b[43m(\u001b[49m\u001b[43mgen_obj\u001b[49m\u001b[43m)\u001b[49m\n",
            "\u001b[0;31mStopIteration\u001b[0m: "
          ],
          "output_type": "error"
        }
      ]
    },
    {
      "cell_type": "code",
      "source": "def myfunc(m):\n    while(m<=3):\n        yield m\n        m=m+1\nobj=myfunc(1)\nnext(obj)",
      "metadata": {
        "trusted": true
      },
      "execution_count": 196,
      "outputs": [
        {
          "execution_count": 196,
          "output_type": "execute_result",
          "data": {
            "text/plain": "1"
          },
          "metadata": {}
        }
      ]
    },
    {
      "cell_type": "code",
      "source": "next(obj)",
      "metadata": {
        "trusted": true
      },
      "execution_count": 197,
      "outputs": [
        {
          "execution_count": 197,
          "output_type": "execute_result",
          "data": {
            "text/plain": "2"
          },
          "metadata": {}
        }
      ]
    },
    {
      "cell_type": "code",
      "source": "next(obj)",
      "metadata": {
        "trusted": true
      },
      "execution_count": 198,
      "outputs": [
        {
          "execution_count": 198,
          "output_type": "execute_result",
          "data": {
            "text/plain": "3"
          },
          "metadata": {}
        }
      ]
    },
    {
      "cell_type": "code",
      "source": "next(obj)",
      "metadata": {
        "trusted": true
      },
      "execution_count": 199,
      "outputs": [
        {
          "ename": "<class 'StopIteration'>",
          "evalue": "",
          "traceback": [
            "\u001b[0;31m---------------------------------------------------------------------------\u001b[0m",
            "\u001b[0;31mStopIteration\u001b[0m                             Traceback (most recent call last)",
            "Input \u001b[0;32mIn [199]\u001b[0m, in \u001b[0;36m<cell line: 1>\u001b[0;34m()\u001b[0m\n\u001b[0;32m----> 1\u001b[0m \u001b[38;5;28;43mnext\u001b[39;49m\u001b[43m(\u001b[49m\u001b[43mobj\u001b[49m\u001b[43m)\u001b[49m\n",
            "\u001b[0;31mStopIteration\u001b[0m: "
          ],
          "output_type": "error"
        }
      ]
    },
    {
      "cell_type": "code",
      "source": "#fibonacci series using generator\ndef fib():\n    a,b=0,1\n    while True:\n        yield a\n        a,b=b,a+b\n\nfor x in fib():\n    if x>50:\n        break\n    print(x,end=\" \")",
      "metadata": {
        "trusted": true
      },
      "execution_count": 204,
      "outputs": [
        {
          "name": "stdout",
          "text": "0 1 1 2 3 5 8 13 21 34 ",
          "output_type": "stream"
        }
      ]
    },
    {
      "cell_type": "code",
      "source": "a=range(20)\nb=(x for x in a)\nprint(b, end=\" \")\nfor y in b:\n    print(y,end = \" \" )\n    a=range(2,20,2)\nb=(x for x in a)\nprint(b, end=\" \")\nfor y in b:\n    print(y,end = \" \" )",
      "metadata": {
        "trusted": true
      },
      "execution_count": 5,
      "outputs": [
        {
          "name": "stdout",
          "text": "<generator object <genexpr> at 0x2d846c0> 0 1 2 3 4 5 6 7 8 9 10 11 12 13 14 15 16 17 18 19 <generator object <genexpr> at 0x31da988> 2 4 6 8 10 12 14 16 18 ",
          "output_type": "stream"
        }
      ]
    },
    {
      "cell_type": "code",
      "source": "import numpy as np\nimport matplotlib.pyplot as plt\nimport seaborn as sb\ndef s(flip=2):\n    x=np.linspace(0,14,100)\n    for i in range(0,5):\n        plt.plot(x,np.sin(x+i*.5)*(7-i)*flip)\n        \nsb.set()\ns()\nplt.show()",
      "metadata": {
        "trusted": true
      },
      "execution_count": 209,
      "outputs": [
        {
          "ename": "<class 'ModuleNotFoundError'>",
          "evalue": "No module named 'seaborn'",
          "traceback": [
            "\u001b[0;31m---------------------------------------------------------------------------\u001b[0m",
            "\u001b[0;31mModuleNotFoundError\u001b[0m                       Traceback (most recent call last)",
            "Input \u001b[0;32mIn [209]\u001b[0m, in \u001b[0;36m<cell line: 3>\u001b[0;34m()\u001b[0m\n\u001b[1;32m      1\u001b[0m \u001b[38;5;28;01mimport\u001b[39;00m \u001b[38;5;21;01mnumpy\u001b[39;00m \u001b[38;5;28;01mas\u001b[39;00m \u001b[38;5;21;01mnp\u001b[39;00m\n\u001b[1;32m      2\u001b[0m \u001b[38;5;28;01mimport\u001b[39;00m \u001b[38;5;21;01mmatplotlib\u001b[39;00m\u001b[38;5;21;01m.\u001b[39;00m\u001b[38;5;21;01mpyplot\u001b[39;00m \u001b[38;5;28;01mas\u001b[39;00m \u001b[38;5;21;01mplt\u001b[39;00m\n\u001b[0;32m----> 3\u001b[0m \u001b[38;5;28;01mimport\u001b[39;00m \u001b[38;5;21;01mseaborn\u001b[39;00m \u001b[38;5;28;01mas\u001b[39;00m \u001b[38;5;21;01msb\u001b[39;00m\n\u001b[1;32m      4\u001b[0m \u001b[38;5;28;01mdef\u001b[39;00m \u001b[38;5;21ms\u001b[39m(flip\u001b[38;5;241m=\u001b[39m\u001b[38;5;241m2\u001b[39m):\n\u001b[1;32m      5\u001b[0m     x\u001b[38;5;241m=\u001b[39mnp\u001b[38;5;241m.\u001b[39mlinspace(\u001b[38;5;241m0\u001b[39m,\u001b[38;5;241m14\u001b[39m,\u001b[38;5;241m100\u001b[39m)\n",
            "\u001b[0;31mModuleNotFoundError\u001b[0m: No module named 'seaborn'"
          ],
          "output_type": "error"
        }
      ]
    },
    {
      "cell_type": "code",
      "source": "#using generator\nimport numpy as np\nimport matplotlib.pyplot as plt\nimport seaborn as sb\ndef s(flip=2):\n    x=np.linspace(0,14,100)\n    for i in range(0,5):\n        yield(plt.plot(x,np.sin(x+i*.5)*(7-i)*flip))\n        \nsb.set()\ns()\nplt.show()\n\nprint(next(s))",
      "metadata": {
        "trusted": true
      },
      "execution_count": 210,
      "outputs": [
        {
          "ename": "<class 'ModuleNotFoundError'>",
          "evalue": "No module named 'seaborn'",
          "traceback": [
            "\u001b[0;31m---------------------------------------------------------------------------\u001b[0m",
            "\u001b[0;31mModuleNotFoundError\u001b[0m                       Traceback (most recent call last)",
            "Input \u001b[0;32mIn [210]\u001b[0m, in \u001b[0;36m<cell line: 4>\u001b[0;34m()\u001b[0m\n\u001b[1;32m      2\u001b[0m \u001b[38;5;28;01mimport\u001b[39;00m \u001b[38;5;21;01mnumpy\u001b[39;00m \u001b[38;5;28;01mas\u001b[39;00m \u001b[38;5;21;01mnp\u001b[39;00m\n\u001b[1;32m      3\u001b[0m \u001b[38;5;28;01mimport\u001b[39;00m \u001b[38;5;21;01mmatplotlib\u001b[39;00m\u001b[38;5;21;01m.\u001b[39;00m\u001b[38;5;21;01mpyplot\u001b[39;00m \u001b[38;5;28;01mas\u001b[39;00m \u001b[38;5;21;01mplt\u001b[39;00m\n\u001b[0;32m----> 4\u001b[0m \u001b[38;5;28;01mimport\u001b[39;00m \u001b[38;5;21;01mseaborn\u001b[39;00m \u001b[38;5;28;01mas\u001b[39;00m \u001b[38;5;21;01msb\u001b[39;00m\n\u001b[1;32m      5\u001b[0m \u001b[38;5;28;01mdef\u001b[39;00m \u001b[38;5;21ms\u001b[39m(flip\u001b[38;5;241m=\u001b[39m\u001b[38;5;241m2\u001b[39m):\n\u001b[1;32m      6\u001b[0m     x\u001b[38;5;241m=\u001b[39mnp\u001b[38;5;241m.\u001b[39mlinspace(\u001b[38;5;241m0\u001b[39m,\u001b[38;5;241m14\u001b[39m,\u001b[38;5;241m100\u001b[39m)\n",
            "\u001b[0;31mModuleNotFoundError\u001b[0m: No module named 'seaborn'"
          ],
          "output_type": "error"
        }
      ]
    },
    {
      "cell_type": "markdown",
      "source": "OOPS\nCLASSES",
      "metadata": {
        "tags": []
      }
    },
    {
      "cell_type": "code",
      "source": "class car():#creating a class\n    def __init__(self,model,yr,price):#constructor function\n        self.model=model              # it is going to intialize the value of\n        self.yr=yr                    #instances/variables. self basically is a reference\n        self.price=price              # to the object which is going to be called in the func'''\n    def price_in(self)  :\n        self.price=int(self.price*1.15)\nhonda=car('city',2010,1000000)#creating object\ntata=car('bolt',2015,600000)\n\nhonda.cc=1500",
      "metadata": {
        "trusted": true
      },
      "execution_count": 25,
      "outputs": []
    },
    {
      "cell_type": "code",
      "source": "print(honda.__dict__)#to check values in class\nprint(tata.__dict__)#to check values in class\nprint(honda.price)\nhonda.price_in()\nprint(honda.price)\n",
      "metadata": {
        "trusted": true
      },
      "execution_count": 26,
      "outputs": [
        {
          "name": "stdout",
          "text": "{'model': 'city', 'yr': 2010, 'price': 1000000, 'cc': 1500}\n{'model': 'bolt', 'yr': 2015, 'price': 600000}\n1000000\n1150000\n",
          "output_type": "stream"
        }
      ]
    },
    {
      "cell_type": "markdown",
      "source": "INHERITANCE-\na class can inherit attributes from another class,called superclass or parentclass.",
      "metadata": {}
    },
    {
      "cell_type": "raw",
      "source": "1.single - when the inheritance involves one child and one parent class\n2. multiple - involves more than one parent class\n3.multilevel - the child class also acts as a parent class for another child class\n4.hierarchical - more than one child class\n",
      "metadata": {}
    },
    {
      "cell_type": "code",
      "source": "#single inheritance\nclass parent:\n    def func1(self):\n        print(\"this is func 1\")\nclass child(parent):  #giving child the value of parent class\n    def func2(self):\n        print(\"this is func 2\")\n        \nob = child() #made an object of child and through it called function from parent class\nob.func1()\nob.func2()\nobp=parent()#made an object of parent and called functions to check inheritance\nobp.func1()\nobp.func2()#will throw an error coz parent can't inherit from child",
      "metadata": {
        "trusted": true
      },
      "execution_count": 32,
      "outputs": [
        {
          "name": "stdout",
          "text": "this is func 1\nthis is func 2\nthis is func 1\n",
          "output_type": "stream"
        },
        {
          "ename": "<class 'AttributeError'>",
          "evalue": "'parent' object has no attribute 'func2'",
          "traceback": [
            "\u001b[0;31m---------------------------------------------------------------------------\u001b[0m",
            "\u001b[0;31mAttributeError\u001b[0m                            Traceback (most recent call last)",
            "Input \u001b[0;32mIn [32]\u001b[0m, in \u001b[0;36m<cell line: 14>\u001b[0;34m()\u001b[0m\n\u001b[1;32m     12\u001b[0m obp\u001b[38;5;241m=\u001b[39mparent()\u001b[38;5;66;03m#made an object of parent and called functions to check inheritance\u001b[39;00m\n\u001b[1;32m     13\u001b[0m obp\u001b[38;5;241m.\u001b[39mfunc1()\n\u001b[0;32m---> 14\u001b[0m \u001b[43mobp\u001b[49m\u001b[38;5;241;43m.\u001b[39;49m\u001b[43mfunc2\u001b[49m()\n",
            "\u001b[0;31mAttributeError\u001b[0m: 'parent' object has no attribute 'func2'"
          ],
          "output_type": "error"
        }
      ]
    },
    {
      "cell_type": "code",
      "source": "#multiple inheritance\nclass parent1:\n    def func11(self):\n        print(\"this is func 11\")\nclass parent2:\n    def func22(self):\n        print(\"this is func 22\")\nclass child(parent1,parent2):  #giving child the value of parent classes\n    def func33(self):\n        print(\"this is func 33\")\n        \nob = child() #made an object of child and through it called function from parent class\nob.func11()\nob.func22()\n\n#multilevel\nclass parent1:\n    def func11(self):\n        print(\"\\nthis is func 11!\")\nclass parent2(parent1):\n    def func22(self):\n        print(\"this is func 22!\")\nclass child(parent2):  #giving child the value of parent classes\n    def func33(self):\n        print(\"this is func 33!\")\n        \nob = child() #made an object of child and through it called function from parent class\nob.func11()\nob.func22()",
      "metadata": {
        "trusted": true
      },
      "execution_count": 37,
      "outputs": [
        {
          "name": "stdout",
          "text": "this is func 11\nthis is func 22\n\nthis is func 11!\nthis is func 22!\n",
          "output_type": "stream"
        }
      ]
    },
    {
      "cell_type": "markdown",
      "source": "EXCEPTION HANDLING",
      "metadata": {}
    },
    {
      "cell_type": "raw",
      "source": "try - used to keep the code segment under check\nexcept -  segment to handle the  exception after catching it\nelse - run thid when no exception exist\nfinally - no matter what run this code if/if not for exception",
      "metadata": {}
    },
    {
      "cell_type": "code",
      "source": "#we can use raise to throw an exception  f a condition occurs\nx=10\nif x>5:\n    raise Exception('x should not be greater than 5. the vale of x was :{}'.format(x))",
      "metadata": {
        "trusted": true
      },
      "execution_count": 38,
      "outputs": [
        {
          "ename": "<class 'Exception'>",
          "evalue": "x should not be greater than 5. the vale of x was :10",
          "traceback": [
            "\u001b[0;31m---------------------------------------------------------------------------\u001b[0m",
            "\u001b[0;31mException\u001b[0m                                 Traceback (most recent call last)",
            "Input \u001b[0;32mIn [38]\u001b[0m, in \u001b[0;36m<cell line: 3>\u001b[0;34m()\u001b[0m\n\u001b[1;32m      2\u001b[0m x\u001b[38;5;241m=\u001b[39m\u001b[38;5;241m10\u001b[39m\n\u001b[1;32m      3\u001b[0m \u001b[38;5;28;01mif\u001b[39;00m x\u001b[38;5;241m>\u001b[39m\u001b[38;5;241m5\u001b[39m:\n\u001b[0;32m----> 4\u001b[0m     \u001b[38;5;28;01mraise\u001b[39;00m \u001b[38;5;167;01mException\u001b[39;00m(\u001b[38;5;124m'\u001b[39m\u001b[38;5;124mx should not be greater than 5. the vale of x was :\u001b[39m\u001b[38;5;132;01m{}\u001b[39;00m\u001b[38;5;124m'\u001b[39m\u001b[38;5;241m.\u001b[39mformat(x))\n",
            "\u001b[0;31mException\u001b[0m: x should not be greater than 5. the vale of x was :10"
          ],
          "output_type": "error"
        }
      ]
    },
    {
      "cell_type": "markdown",
      "source": "MODULE",
      "metadata": {}
    },
    {
      "cell_type": "markdown",
      "source": "module is simply a file containin gpython code , it may contain function,classes can be used for variety of applications",
      "metadata": {}
    },
    {
      "cell_type": "code",
      "source": "#builtin modules within python\nhelp(\"modules\")",
      "metadata": {
        "trusted": true
      },
      "execution_count": 39,
      "outputs": [
        {
          "name": "stdout",
          "text": "\nPlease wait a moment while I gather a list of all available modules...\n\n",
          "output_type": "stream"
        },
        {
          "name": "stderr",
          "text": "/lib/python3.10/pkgutil.py:92: UserWarning: The numpy.array_api submodule is still experimental. See NEP 47.\n  __import__(info.name)\n/lib/python3.10/site-packages/_distutils_hack/__init__.py:17: UserWarning: Distutils was imported before Setuptools, but importing Setuptools also replaces the `distutils` module in `sys.modules`. This may lead to undesirable behaviors or errors. To avoid these issues, avoid using distutils directly, ensure that setuptools is installed in the traditional way (e.g. not an editable install), and/or make sure that setuptools is always imported before distutils.\n  warnings.warn(\n/lib/python3.10/site-packages/_distutils_hack/__init__.py:30: UserWarning: Setuptools is replacing distutils.\n  warnings.warn(\"Setuptools is replacing distutils.\")\n",
          "output_type": "stream"
        },
        {
          "name": "stdout",
          "text": "IPython             asttokens           importlib           rlcompleter\nPIL                 asynchat            inspect             runpy\n__future__          asyncio             io                  sched\n_abc                asyncore            ipaddress           secrets\n_aix_support        atexit              ipykernel           select\n_ast                audioop             itertools           selectors\n_bisect             backcall            jedi                setuptools\n_blake2             base64              json                shelve\n_bootsubprocess     bdb                 keyword             shlex\n_bz2                binascii            kiwisolver          shutil\n_codecs             binhex              linecache           signal\n_codecs_cn          bisect              locale              site\n_codecs_hk          builtins            logging             six\n_codecs_iso2022     bz2                 lzma                smtpd\n_codecs_jp          cProfile            mailbox             smtplib\n_codecs_kr          calendar            mailcap             sndhdr\n_codecs_tw          cgi                 marshal             socket\n_collections        cgitb               math                socketserver\n_collections_abc    chunk               matplotlib          sqlite3\n_compat_pickle      cmath               matplotlib_inline   sre_compile\n_compression        cmd                 micropip            sre_constants\n_contextvars        code                mimetypes           sre_parse\n_crypt              codecs              mmap                ssl\n_csv                codeop              modulefinder        stack_data\n_ctypes             collections         multiprocessing     stat\n_datetime           colorsys            netrc               statistics\n_decimal            compileall          nntplib             string\n_distutils_hack     concurrent          ntpath              stringprep\n_functools          configparser        nturl2path          struct\n_heapq              contextlib          numbers             subprocess\n_imp                contextvars         numpy               sunau\n_io                 copy                opcode              symtable\n_json               copyreg             operator            sys\n_locale             crypt               optparse            sysconfig\n_lsprof             csv                 os                  tabnanny\n_markupbase         ctypes              packaging           tarfile\n_md5                cycler              parso               telnetlib\n_multibytecodec     dataclasses         pathlib             tempfile\n_operator           datetime            pdb                 textwrap\n_pickle             dateutil            pexpect             this\n_posixsubprocess    decimal             pickle              threading\n_py_abc             decorator           pickleshare         time\n_pydecimal          difflib             pickletools         timeit\n_pyio               dis                 pipes               token\n_pyodide            distutils           piplite             tokenize\n_queue              doctest             pkg_resources       trace\n_random             email               pkgutil             traceback\n_sha1               encodings           platform            tracemalloc\n_sha256             enum                plistlib            traitlets\n_sha3               errno               poplib              tty\n_sha512             executing           posix               types\n_signal             faulthandler        posixpath           typing\n_sitebuiltins       filecmp             pprint              tzdata\n_socket             fileinput           profile             unicodedata\n_sqlite3            fnmatch             prompt_toolkit      unittest\n_sre                fontTools           pstats              urllib\n_stat               fractions           pty                 uu\n_string             ftplib              ptyprocess          uuid\n_strptime           functools           pure_eval           warnings\n_struct             gc                  py_compile          wave\n_symtable           genericpath         pyclbr              wcwidth\n_sysconfigdata__emscripten_wasm32-emscripten getopt              pydoc               weakref\n_thread             getpass             pydoc_data          webbrowser\n_threading_local    gettext             pyexpat             wsgiref\n_tracemalloc        glob                pygments            xdrlib\n_warnings           graphlib            pylab               xml\n_weakref            gzip                pyodide             xmlrpc\n_weakrefset         hashlib             pyolite             xxsubtype\n_xxsubinterpreters  heapq               pyparsing           zipapp\nabc                 hmac                pytz                zipfile\naifc                html                queue               zipimport\nantigravity         http                quopri              zlib\nargparse            imaplib             random              zoneinfo\narray               imghdr              re                  \nast                 imp                 reprlib             \n\nEnter any module name to get more help.  Or, type \"modules spam\" to search\nfor modules whose name or summary contain the string \"spam\".\n\n",
          "output_type": "stream"
        }
      ]
    },
    {
      "cell_type": "code",
      "source": "from matplotlib import pyplot as plt\nplt.bar([0.25,1.25,2.25,3.25,4.25],[50,40,70,80,20],label = \"BMW\",width = .5)\nplt.bar([0.75,1.75,2.75,3.75,4.75],[80,20,20,50,60],label = \"Audi\", color = 'g',width=0.5)\nplt.legend()\nplt.xlabel('Days')\nplt.ylabel('distance(km)')\nplt.title('information')\nplt.show()\n\ndays = [1,2,3,4,5]\nsleeping = [6,7,8,9,10]\neating = [2,4,6,8,10]\nworking = [1,3,5,7,9]\nplaying = [3,4,5,6,7]\nslices = [7,2,2,13]\nactivities = ['sleeping','eating','working','playing']\ncols = ['c','m','r','b']\n\nplt.pie(slices,labels=activities,colors=cols,startangle=90,shadow=True,explode=(0,0.2,0,0),autopct='%1.1f%%')\nplt.title('pie chart')\nplt.show()",
      "metadata": {
        "trusted": true
      },
      "execution_count": 62,
      "outputs": [
        {
          "output_type": "display_data",
          "data": {
            "text/plain": "<pyolite.display.Image at 0x6767298>",
            "image/png": "[encoded data removed]"
          },
          "metadata": {}
        },
        {
          "output_type": "display_data",
          "data": {
            "text/plain": "<pyolite.display.Image at 0x683bc88>",
            "image/png": "[encoded data removed]"
          },
          "metadata": {}
        }
      ]
    },
    {
      "cell_type": "code",
      "source": "import time as t\nprint(t.time())\nprint(t.ctime())\nprint(t.localtime())\n\n",
      "metadata": {
        "trusted": true
      },
      "execution_count": 87,
      "outputs": [
        {
          "name": "stdout",
          "text": "1654929732.9859998\nSat Jun 11 12:12:12 2022\ntime.struct_time(tm_year=2022, tm_mon=6, tm_mday=11, tm_hour=12, tm_min=12, tm_sec=12, tm_wday=5, tm_yday=162, tm_isdst=0)\n",
          "output_type": "stream"
        }
      ]
    },
    {
      "cell_type": "code",
      "source": "print(t.strftime(\"%d-%m-%Y\"))\n",
      "metadata": {
        "trusted": true
      },
      "execution_count": 92,
      "outputs": [
        {
          "name": "stdout",
          "text": "11-06-2022\n",
          "output_type": "stream"
        }
      ]
    },
    {
      "cell_type": "markdown",
      "source": "NUMPY MODULE",
      "metadata": {}
    },
    {
      "cell_type": "code",
      "source": "import numpy as np\na=np.array([(1,2,3),(4,5,6)])\nprint(a)",
      "metadata": {
        "trusted": true
      },
      "execution_count": 98,
      "outputs": [
        {
          "name": "stdout",
          "text": "[[1 2 3]\n [4 5 6]]\n",
          "output_type": "stream"
        }
      ]
    },
    {
      "cell_type": "code",
      "source": "#numpy are used over list \n#1. numpy occupies less memory than list\nimport numpy as np\nimport time\nimport sys\na=range(1000)\nprint(sys.getsizeof(5)*len(a))\nb=np.arange(1000)\nprint(b.size*b.itemsize)\n\n#2. it is fast\nsize = 1000000\nl1 = range(size)\nl2 = range(size)\n\na1 = np.arange(size)\na2 = np.arange(size)\nstart = time.time()\nresult = [(x,y) for x,y in zip(l1,l2)] #(l1+l2) will concatenate instead of adding\nprint((time.time()-start)*1000)\n\nstart = time.time()\nresult = a1+a2\nprint((time.time()-start)*1000)\n\n#3. it is convenient",
      "metadata": {
        "trusted": true
      },
      "execution_count": 111,
      "outputs": [
        {
          "name": "stdout",
          "text": "16000\n4000\n481.0001850128174\n315.99998474121094\n",
          "output_type": "stream"
        }
      ]
    },
    {
      "cell_type": "code",
      "source": "import numpy as np\na = np.array([(1,2,3),(1,2,3),(4,5,6)])\nprint(a)\nprint(a.ndim)\nprint(a.itemsize)\nprint(a.dtype)\nprint(a.size)\nprint(a.shape)\n\nb = np.array([(1,2,3,4),(5,6,7,8),(9,10,11,12)])\nprint(b)\nb = b.reshape(4,3)\nprint(b)\nprint(b[0,2])\nprint(b[0:2,0:])",
      "metadata": {
        "trusted": true
      },
      "execution_count": 142,
      "outputs": [
        {
          "name": "stdout",
          "text": "[[1 2 3]\n [1 2 3]\n [4 5 6]]\n2\n4\nint32\n9\n(3, 3)\n[[ 1  2  3  4]\n [ 5  6  7  8]\n [ 9 10 11 12]]\n[[ 1  2  3]\n [ 4  5  6]\n [ 7  8  9]\n [10 11 12]]\n3\n[[1 2 3]\n [4 5 6]]\n",
          "output_type": "stream"
        }
      ]
    },
    {
      "cell_type": "code",
      "source": "import numpy as np\na = np.linspace(1,2,10,dtype = 'f')\nprint(a)",
      "metadata": {
        "trusted": true
      },
      "execution_count": 149,
      "outputs": [
        {
          "name": "stdout",
          "text": "[1.        1.1111112 1.2222222 1.3333334 1.4444444 1.5555556 1.6666666\n 1.7777778 1.8888888 2.       ]\n",
          "output_type": "stream"
        }
      ]
    },
    {
      "cell_type": "code",
      "source": "import numpy as np\na = np.array([1,2,3,4,5])\nprint(\"max \",a.max())\nprint(\"min \",a.min())\nprint(\"sum \",a.sum())\nb = np.array([(10,10,10,10),(20,20,20,20),(30,30,30,30)])\nprint(b)\nprint(b.sum())\nprint(\"column sum:\",b.sum(axis = 0))\nprint(\"row sum:\",b.sum(axis = 1))\nprint(np.sqrt(b))\nprint(np.std(b))\nprint(np.vstack((a,b)))",
      "metadata": {
        "trusted": true
      },
      "execution_count": 161,
      "outputs": [
        {
          "name": "stdout",
          "text": "max  5\nmin  1\nsum  15\n[[10 10 10 10]\n [20 20 20 20]\n [30 30 30 30]]\n240\ncolumn sum: [60 60 60 60]\nrow sum: [ 40  80 120]\n[[3.16227766 3.16227766 3.16227766 3.16227766]\n [4.47213595 4.47213595 4.47213595 4.47213595]\n [5.47722558 5.47722558 5.47722558 5.47722558]]\n8.16496580927726\n",
          "output_type": "stream"
        },
        {
          "ename": "<class 'ValueError'>",
          "evalue": "all the input array dimensions for the concatenation axis must match exactly, but along dimension 1, the array at index 0 has size 5 and the array at index 1 has size 4",
          "traceback": [
            "\u001b[0;31m---------------------------------------------------------------------------\u001b[0m",
            "\u001b[0;31mValueError\u001b[0m                                Traceback (most recent call last)",
            "Input \u001b[0;32mIn [161]\u001b[0m, in \u001b[0;36m<cell line: 13>\u001b[0;34m()\u001b[0m\n\u001b[1;32m     11\u001b[0m \u001b[38;5;28mprint\u001b[39m(np\u001b[38;5;241m.\u001b[39msqrt(b))\n\u001b[1;32m     12\u001b[0m \u001b[38;5;28mprint\u001b[39m(np\u001b[38;5;241m.\u001b[39mstd(b))\n\u001b[0;32m---> 13\u001b[0m \u001b[38;5;28mprint\u001b[39m(\u001b[43mnp\u001b[49m\u001b[38;5;241;43m.\u001b[39;49m\u001b[43mvstack\u001b[49m\u001b[43m(\u001b[49m\u001b[43m(\u001b[49m\u001b[43ma\u001b[49m\u001b[43m,\u001b[49m\u001b[43mb\u001b[49m\u001b[43m)\u001b[49m\u001b[43m)\u001b[49m)\n",
            "File \u001b[0;32m<__array_function__ internals>:180\u001b[0m, in \u001b[0;36mvstack\u001b[0;34m(*args, **kwargs)\u001b[0m\n",
            "File \u001b[0;32m/lib/python3.10/site-packages/numpy/core/shape_base.py:282\u001b[0m, in \u001b[0;36mvstack\u001b[0;34m(tup)\u001b[0m\n\u001b[1;32m    280\u001b[0m \u001b[38;5;28;01mif\u001b[39;00m \u001b[38;5;129;01mnot\u001b[39;00m \u001b[38;5;28misinstance\u001b[39m(arrs, \u001b[38;5;28mlist\u001b[39m):\n\u001b[1;32m    281\u001b[0m     arrs \u001b[38;5;241m=\u001b[39m [arrs]\n\u001b[0;32m--> 282\u001b[0m \u001b[38;5;28;01mreturn\u001b[39;00m \u001b[43m_nx\u001b[49m\u001b[38;5;241;43m.\u001b[39;49m\u001b[43mconcatenate\u001b[49m\u001b[43m(\u001b[49m\u001b[43marrs\u001b[49m\u001b[43m,\u001b[49m\u001b[43m \u001b[49m\u001b[38;5;241;43m0\u001b[39;49m\u001b[43m)\u001b[49m\n",
            "File \u001b[0;32m<__array_function__ internals>:180\u001b[0m, in \u001b[0;36mconcatenate\u001b[0;34m(*args, **kwargs)\u001b[0m\n",
            "\u001b[0;31mValueError\u001b[0m: all the input array dimensions for the concatenation axis must match exactly, but along dimension 1, the array at index 0 has size 5 and the array at index 1 has size 4"
          ],
          "output_type": "error"
        }
      ]
    },
    {
      "cell_type": "code",
      "source": "import numpy as np\nimport matplotlib.pyplot as plt\nx = np.arange(0,3*np.pi,0.1)   #np.arange(start,stop,step)\ny = np.sin(x)\nplt.plot(x,y)\nplt.title(\"sine\")\nplt.show()\n",
      "metadata": {
        "trusted": true
      },
      "execution_count": 177,
      "outputs": [
        {
          "output_type": "display_data",
          "data": {
            "text/plain": "<pyolite.display.Image at 0x17104fa8>",
            "image/png": "[encoded data removed]"
          },
          "metadata": {}
        }
      ]
    },
    {
      "cell_type": "markdown",
      "source": "SCIPY MODULE",
      "metadata": {}
    },
    {
      "cell_type": "raw",
      "source": "nmupy and scipy both are used for mathematical and numerical analysis.\nnumpy contains array data and basic operations.\nscipy consists of all the numerical code.\nscipy contains fully featured versions of mathematical and scientific functions.",
      "metadata": {}
    },
    {
      "cell_type": "code",
      "source": "from scipy import special\na = special.exp10(2)\nprint(a)\nb = special.exp2(3)\nprint(b)\nc = special.sindg(90)\nprint(c)",
      "metadata": {
        "trusted": true
      },
      "execution_count": 190,
      "outputs": [
        {
          "name": "stdout",
          "text": "100.0\n8.0\n1.0\n",
          "output_type": "stream"
        }
      ]
    },
    {
      "cell_type": "code",
      "source": "#linear algebra\nfrom scipy import linalg\na = np.array([[1,2],[3,4]])\nprint(b,\"\\ndim-\",np.ndim(b),\"shape-\",np.shape(b))\nb = linalg.inv(a)\nprint(b)",
      "metadata": {
        "trusted": true
      },
      "execution_count": 202,
      "outputs": [
        {
          "name": "stdout",
          "text": "[[-1.66666667  0.66666667]\n [ 1.33333333 -0.33333333]] \ndim- 2 shape- (2, 2)\n[[-2.   1. ]\n [ 1.5 -0.5]]\n",
          "output_type": "stream"
        }
      ]
    },
    {
      "cell_type": "code",
      "source": "#interpolate\nimport matplotlib.pyplot as plt\nfrom scipy import interpolate\nx = np.arange(5,20)\ny = np.exp(x/3.0)\nf = interpolate.interp1d(x,y)\nx1 = np.arange(6,18)\ny1 = f(x1)\nplt.plot(x,y,'o',x1,y1,'--')\nplt.show()",
      "metadata": {
        "trusted": true
      },
      "execution_count": 210,
      "outputs": [
        {
          "output_type": "display_data",
          "data": {
            "text/plain": "<pyolite.display.Image at 0x18e84910>",
            "image/png": "[encoded data removed]"
          },
          "metadata": {}
        }
      ]
    },
    {
      "cell_type": "markdown",
      "source": "PANDAS",
      "metadata": {}
    },
    {
      "cell_type": "code",
      "source": "import pandas as pd\nxyz_web = {'day':[1,2,3,4,5,6],'visitors':[1000,500,700,300,400,800],'bounce_rate':[20,20,30,10,15,34]}\ndf = pd.DataFrame(xyz_web)\nprint(df)",
      "metadata": {
        "trusted": true
      },
      "execution_count": 217,
      "outputs": [
        {
          "name": "stdout",
          "text": "   day  visitors  bounce_rate\n0    1      1000           20\n1    2       500           20\n2    3       700           30\n3    4       300           10\n4    5       400           15\n5    6       800           34\n",
          "output_type": "stream"
        }
      ]
    },
    {
      "cell_type": "markdown",
      "source": "using pandas following things can be done : \n1. slicing the dataframe\n2. changing the index\n3. data conversion\n4. joining and merging\n5. concatenation\n6. changing the column headers",
      "metadata": {}
    },
    {
      "cell_type": "code",
      "source": "#1. slicing the dataframe\nprint(df.head(2))\nprint(df.tail(2))",
      "metadata": {
        "trusted": true
      },
      "execution_count": 220,
      "outputs": [
        {
          "name": "stdout",
          "text": "   day  visitors  bounce_rate\n0    1      1000           20\n1    2       500           20\n   day  visitors  bounce_rate\n4    5       400           15\n5    6       800           34\n",
          "output_type": "stream"
        }
      ]
    },
    {
      "cell_type": "code",
      "source": "#2. merging\nimport pandas as pd\ndf1=pd.DataFrame({'HPI':[80,90,70,60],'int_rate':[2,1,2,3],'ind_gdp':[50,45,45,60]},index = [2001,2002,2003,2004])\ndf2=pd.DataFrame({'HPI':[80,90,70,60],'int_rate':[2,1,2,3],'ind_gdp':[50,45,45,60]},index = [2005,2006,2007,2008])\nmerge = pd.merge(df1,df2)\nprint(merge)\nmerge = pd.merge(df1,df2, on = 'HPI')\nprint(merge)",
      "metadata": {
        "trusted": true
      },
      "execution_count": 230,
      "outputs": [
        {
          "name": "stdout",
          "text": "   HPI  int_rate  ind_gdp\n0   80         2       50\n1   90         1       45\n2   70         2       45\n3   60         3       60\n   HPI  int_rate_x  ind_gdp_x  int_rate_y  ind_gdp_y\n0   80           2         50           2         50\n1   90           1         45           1         45\n2   70           2         45           2         45\n3   60           3         60           3         60\n",
          "output_type": "stream"
        }
      ]
    },
    {
      "cell_type": "code",
      "source": "#joining\nimport pandas as pd\ndf1=pd.DataFrame({'int_rate':[2,1,2,3],'ind_gdp':[50,45,45,60]},index = [2001,2002,2003,2004])\ndf2=pd.DataFrame({'low_tier_HPI':[80,90,70,60],'unemploment':[2,1,2,4]},index = [2001,2002,2004,2005])\njoined = df1.join(df2)\nprint(joined)",
      "metadata": {
        "trusted": true
      },
      "execution_count": 235,
      "outputs": [
        {
          "name": "stdout",
          "text": "      int_rate  ind_gdp  low_tier_HPI  unemploment\n2001         2       50          80.0          2.0\n2002         1       45          90.0          1.0\n2003         2       45           NaN          NaN\n2004         3       60          70.0          2.0\n",
          "output_type": "stream"
        }
      ]
    },
    {
      "cell_type": "code",
      "source": "#changing index\nimport pandas as pd\nimport matplotlib.pyplot as plt\nfrom matplotlib import style\nstyle.use(\"fivethirtyeight\")\nxyz_web = {'day':[1,2,3,4,5,6],'visitors':[1000,500,700,300,400,800],'bounce_rate':[20,20,30,10,15,34]}\ndf = pd.DataFrame(xyz_web)\ndf.set_index('day',inplace = True)\nprint(df)\ndf = df.rename(columns = {'visitors':'users'})\nprint(df)\ndf.plot()\nplt.show()",
      "metadata": {
        "trusted": true
      },
      "execution_count": 240,
      "outputs": [
        {
          "name": "stdout",
          "text": "     visitors  bounce_rate\nday                       \n1        1000           20\n2         500           20\n3         700           30\n4         300           10\n5         400           15\n6         800           34\n     users  bounce_rate\nday                    \n1     1000           20\n2      500           20\n3      700           30\n4      300           10\n5      400           15\n6      800           34\n",
          "output_type": "stream"
        },
        {
          "output_type": "display_data",
          "data": {
            "text/plain": "<pyolite.display.Image at 0x1e4e98f0>",
            "image/png": "[encoded data removed]"
          },
          "metadata": {}
        }
      ]
    },
    {
      "cell_type": "code",
      "source": "#concatenation\nconcat = pd.concat([df1,df2])\nprint(concat)",
      "metadata": {
        "trusted": true
      },
      "execution_count": 242,
      "outputs": [
        {
          "name": "stdout",
          "text": "      int_rate  ind_gdp  low_tier_HPI  unemploment\n2001       2.0     50.0           NaN          NaN\n2002       1.0     45.0           NaN          NaN\n2003       2.0     45.0           NaN          NaN\n2004       3.0     60.0           NaN          NaN\n2001       NaN      NaN          80.0          2.0\n2002       NaN      NaN          90.0          1.0\n2004       NaN      NaN          70.0          2.0\n2005       NaN      NaN          60.0          4.0\n",
          "output_type": "stream"
        }
      ]
    },
    {
      "cell_type": "markdown",
      "source": "MATPLOTLIB - used for 2d graphics",
      "metadata": {
        "tags": []
      }
    },
    {
      "cell_type": "code",
      "source": "import matplotlib.pyplot as plt\nplt.bar([1,2,3,4,6,5],[4,5,3,7,3,5],color = 'g',label = 'line1')\nplt.xlabel(\"Apoint\")\nplt.ylabel(\"Bpoint\")\nplt.title(\"bar_graph\",size=10)\nplt.grid()\nplt.legend()\nplt.show()",
      "metadata": {
        "tags": [],
        "trusted": true
      },
      "execution_count": 292,
      "outputs": [
        {
          "output_type": "display_data",
          "data": {
            "text/plain": "<pyolite.display.Image at 0x263b4af8>",
            "image/png": "[encoded data removed]"
          },
          "metadata": {}
        }
      ]
    },
    {
      "cell_type": "code",
      "source": "import matplotlib.pyplot as plt\nplt.plot([1,2,3],[4,5,3],'o--',mec='g',mfc='r',c = 'b',lw = 1,label = 'line1')\nplt.xlabel(\"Apoint\")\nplt.ylabel(\"Bpoint\")\nplt.title(\"line_graph\",size=10)\nplt.grid(True,ls = '--',lw = 0.8)\nplt.legend()\nplt.show()",
      "metadata": {
        "trusted": true
      },
      "execution_count": 293,
      "outputs": [
        {
          "output_type": "display_data",
          "data": {
            "text/plain": "<pyolite.display.Image at 0x264561b0>",
            "image/png": "[encoded data removed]"
          },
          "metadata": {}
        }
      ]
    },
    {
      "cell_type": "markdown",
      "source": "FRAMEWORK\ncollection of modules helping in web dev",
      "metadata": {}
    },
    {
      "cell_type": "code",
      "source": "",
      "metadata": {},
      "execution_count": null,
      "outputs": []
    }
  ]
}